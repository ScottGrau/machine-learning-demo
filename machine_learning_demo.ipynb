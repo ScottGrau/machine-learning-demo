{
 "cells": [
  {
   "cell_type": "markdown",
   "metadata": {},
   "source": [
    "<h1 style=\"color:cornflowerblue\">Predictive Analytics Using Machine Learning</h1>"
   ]
  },
  {
   "cell_type": "markdown",
   "metadata": {},
   "source": [
    "<h4>AI Philosphically Defined</h4>\n",
    "<table>\n",
    "<th>Term</th><th>Definition</th><th>Source</th>\n",
    "<tr>\n",
    "    <td>Artificial Intelligence</td>\n",
    "    <td>the ability of a [computer] to perform tasks commonly associated with intelligent beings</td>\n",
    "    <td><a href=\"https://www.britannica.com/science/human-intelligence-psychology\">Britannica</a</td>\n",
    "</tr>\n",
    "<tr>\n",
    "    <td>Human Intellegence</td>\n",
    "    <td>a [human] mental quality to learn from experience, adapt to new situations..and use knowledge to manipulate one’s environment</td>\n",
    "    <td><a href=\"https://www.britannica.com/science/human-intelligence-psychology\">Britannica</a></td>\n",
    "</tr>\n",
    "<tr>\n",
    "    <td>Learning</td>\n",
    "    <td>The act, process, or experience of gaining knowledge or skill.</td>\n",
    "    <td><a href=\"https://en.wikipedia.org/wiki/Learning\">Wikipedia</a></td>\n",
    "</tr>\n",
    "<table>"
   ]
  },
  {
   "cell_type": "markdown",
   "metadata": {},
   "source": [
    "<h4>Machine Learing Types</h4>\n",
    "<table>\n",
    "    <th>Type</th><th>Definition</th><th>Source</th>\n",
    "    <tr>\n",
    "        <td>Unsupervised</td>\n",
    "        <td>algorithms that learn patterns exclusively from unlabeled [unclassified,uncategorized] data</td>\n",
    "        <td><a href=\"https://en.wikipedia.org/wiki/Unsupervised_learning\">Wikipedia</a></td>\n",
    "    </tr>\n",
    "    <tr>\n",
    "        <td>Supervised</td>\n",
    "        <td>use of labeled data sets to train algorithms that to classify data or predict outcomes accurately.</td>\n",
    "        <td><a href=\"https://www.ibm.com/topics/supervised-learning\">IBM</a></td>\n",
    "    </tr>\n",
    "    <tr>\n",
    "        <td>Reinforcement</td>\n",
    "        <td>an intelligent agent ought to take actions in a dynamic environment in order to maximize the cumulative reward</td>\n",
    "        <td><a href=\"https://en.wikipedia.org/wiki/Reinforcement_learning\">Wikipedia</a></td>\n",
    "    </tr>\n",
    "     <tr>\n",
    "        <td>Deep</td>\n",
    "        <td></td>\n",
    "        <td><a href=\"#\">Wikipedia</a></td>\n",
    "    </tr>\n",
    "    <tr>\n",
    "        <td>Generative AI</td>\n",
    "        <td></td>\n",
    "    <td><a href=\"#\">Wikipedia</a></td>\n",
    "    </tr>\n",
    "</table>\n"
   ]
  },
  {
   "cell_type": "markdown",
   "metadata": {},
   "source": [
    "<h4>ML Algorithms Presented</h4>\n",
    "<table>\n",
    "   <th>Algorithm</th><th>ML Type</th><th>Definition</th><th>Source</th>\n",
    "   <tr>\n",
    "        <td>K Means Clustering</td>\n",
    "        <td>Unsupervised</td>        \n",
    "        <td>aims to partition n observations [scatter plots] into k clusters in which each observation belongs to the cluster with the nearest [euclidean distance mean between neighbors]</td>\n",
    "        <td><a href=\"https://en.wikipedia.org/wiki/K-means_clustering\">Wikipedia</a></td>\n",
    "    </tr>\n",
    "    <tr>\n",
    "        <td>K Nearest Neighbor</td> \n",
    "        <td>Supervised</td> \n",
    "        <td>learning classifier, which uses proximity [of scatter plots] to make classifications or predictions about the grouping of an individual data point [being added to scatter plot]</td>\n",
    "        <td><a hre=\"https://www.ibm.com/topics/knn\">IBM</a></td>\n",
    "    </tr>    \n",
    "    <tr>\n",
    "        <td>Linear Regression</td>\n",
    "        <td>Supervised</td> \n",
    "        <td>a supervised machine-learning algorithm, learns from the labelled datasets and maps the data points to the most optimized linear functions which can be used for prediction on new datasets.</td>\n",
    "        <td><a href=\"https://en.wikipedia.org/wiki/Linear_regression\">Wikipedia</td>\n",
    "    </tr>\n",
    "\n",
    "</table>"
   ]
  },
  {
   "cell_type": "markdown",
   "metadata": {},
   "source": [
    "<H3 style=\"color:cornflowerblue\">Business Summary</H3>"
   ]
  },
  {
   "cell_type": "markdown",
   "metadata": {},
   "source": [
    "<p><strong style=\"color:cornflowerblue\">Predictive analytics</strong> is a form of business analytics applying machine learning to generate a predictive model <a ref=\"https://en.wikipedia.org/wiki/Predictive_analytics\">wikipedia</a></p>\n",
    "<p>Therefore, the <strong style=\"color:MediumSeaGreen\">value</strong> of Predictive Analytics can be realized by identifying future needs.</p>\n",
    "\n",
    "<strong>Proposed Customer Benefits</strong>\n",
    "<ul>     \n",
    "    <li>\n",
    "    <strong style=\"color:MediumSeaGreen\">Prepare for Demand</strong> Purchase More Devices for predicted increases in device usage\n",
    "    </li>\n",
    "    <li><strong style=\"color:MediumSeaGreen\">Better Prouct Labeling</strong> with the term <strong>Artificial Intellegence</strong>\n",
    "    </li>\n",
    "</ul>\n",
    "<strong>Proposed Crestron Benefits</strong>\n",
    "<ul>        \n",
    "    <li><strong style=\"color:MediumSeaGreen\">Azure Bill Lowered</strong> though better allocation of resources</li>\n",
    "    <li><strong style=\"color:MediumSeaGreen\">Manufacturing Costs Lowered</strong> though better allocation of resources</li>\n",
    "</ul>"
   ]
  },
  {
   "cell_type": "markdown",
   "metadata": {},
   "source": [
    "<strong>Use Cases</strong>\n",
    "<ul>\n",
    "    <li>Inform customers of predicted shortages of meeting rooms and devices</li>\n",
    "    <li>Crestron Marketing will able include AI in XiO feature sheet</li>\n",
    "    <li>Scale Azure resources up/down according to future needs</li>\n",
    "    <li>Inform Crestron of predicted shortages/surpluses of parts and inventory</li>  \n",
    "    <li>Automation of legacy demand forecasting spreadsheet logic (millions of types)</lli>\n",
    "</ul>\n"
   ]
  },
  {
   "cell_type": "markdown",
   "metadata": {},
   "source": [
    "<h3>Document Context</h3>\n",
    "\n"
   ]
  },
  {
   "cell_type": "markdown",
   "metadata": {},
   "source": [
    "<h4>Machine Learning Workflow Visualization</h4>\n",
    "<p><strong>Machine Learing Software Development Lifecycle</strong></p>\n",
    "<img src='./images/machine_learning_workflow_2.png' />\n",
    "<p><strong>Machine Learning Training / Configuration</strong></p>\n",
    "<img src='./images/machine_learning_workflow.png' />\n",
    "\n",
    "\n"
   ]
  },
  {
   "cell_type": "markdown",
   "metadata": {},
   "source": [
    "<h3>ML Algorithm #1 - KMeans Clustering</h3>"
   ]
  },
  {
   "cell_type": "markdown",
   "metadata": {},
   "source": [
    "<h4>Use Cases</h4>\n"
   ]
  },
  {
   "cell_type": "markdown",
   "metadata": {},
   "source": [
    "<p>The KMeans algorithm clusters data by trying to separate samples in n groups of equal variance,\n",
    "<a href='https://scikit-learn.org/stable/modules/clustering.html#k-means'>scikit</a></p>\n",
    "<p><strong>Kmeans Clustering Process</strong> <a href=\"https://en.wikipedia.org/wiki/K-means_clustering\">wikipedia</p></a>\n",
    "<img src='./images/kmeans-wikipedia.png' />\n",
    "<p>(X,Y coordinate system removed for visualization)</p>"
   ]
  },
  {
   "cell_type": "markdown",
   "metadata": {},
   "source": [
    "<strong><p>KMeans Equation (packt)</p></strong>\n",
    "<image src=\"./images/kmeans-equation-packt.png\"/>\n",
    " <p></p>"
   ]
  },
  {
   "cell_type": "markdown",
   "metadata": {},
   "source": [
    "<p>KMeans using SKLearn (from example)</p>\n",
    "<img src=\"./images/k-means-example.png\">\n",
    "\n",
    "<p>KMeans Source (scikit)</p>\n",
    "<a href=\"https://github.com/scikit-learn/scikit-learn/blob/main/sklearn/cluster/_kmeans.py\">sklearn/cluster/_kmeans.py</a>"
   ]
  },
  {
   "cell_type": "markdown",
   "metadata": {},
   "source": [
    "<h3>ML Algorithm #2 - K Nearest Neighbor</h3>"
   ]
  },
  {
   "cell_type": "markdown",
   "metadata": {},
   "source": [
    "<p>\n",
    "find a predefined number of training samples closest in distance to the new point, and predict the label from these. The number of samples can be a user-defined constant (k-nearest neighbor learning), or vary based on the local density of points (radius-based neighbor learning). The distance can, in general, be any metric measure: standard Euclidean distance is the most common choice\n",
    "<a href=\"https://scikit-learn.org/stable/modules/neighbors.html\">scikit</a>\n",
    "</p>"
   ]
  },
  {
   "cell_type": "markdown",
   "metadata": {},
   "source": [
    "<p><strong>K Nearest Neighbor Process</strong> <a href=\"https://www.cs.cornell.edu/courses/cs4780/2018fa/lectures/lecturenote02_kNN.html\">cornell</a></p>\n",
    "<img src='./images/knearest-cornell.png' />\n",
    "<p>(X,Y coordinate system removed for visualization)</p>"
   ]
  },
  {
   "cell_type": "markdown",
   "metadata": {},
   "source": [
    "<p><strong>Euclidian Distance Equation (packt)</strong></p>\n",
    "<img src=\"images/euclidian-packt.png\" />"
   ]
  },
  {
   "cell_type": "markdown",
   "metadata": {},
   "source": [
    "<p><strong>K Nearest using SKLearn (from example below)</strong></p>\n",
    "<img src=\"./images/k-nearest-example.png\" />\n"
   ]
  },
  {
   "cell_type": "markdown",
   "metadata": {},
   "source": [
    "<p><strong>KNeighborsClassifier (scikit)</strong></p>\n",
    "<a href=\"https://github.com/scikit-learn/scikit-learn/blob/main/sklearn/neighbors/_classification.py\">sklearn/neighbors/_classification.py</a>"
   ]
  },
  {
   "cell_type": "markdown",
   "metadata": {},
   "source": [
    "<h3>ML Algorithm #3 - Linear Regression</h3>"
   ]
  },
  {
   "cell_type": "markdown",
   "metadata": {},
   "source": [
    "<p>Estimates the linear relationship between a scalar response (dependent variable) and one or more explanatory variables (regressor or independent variable) <a href=\"https://en.wikipedia.org/wiki/Linear_regression\">wikipedia</a></p>\n",
    "\n",
    "<p>[Linear Regression will] find a predefined number of training samples closest in distance to the new point, and predict the label from these. The number of samples can be a user-defined constant (k-nearest neighbor learning), or vary based on the local density of points (radius-based neighbor learning). The distance can, in general, be any metric measure: standard Euclidean distance is the most common choice \n",
    "<a href=\"https://scikit-learn.org/stable/modules/neighbors.html\">sckikit</a></p>"
   ]
  },
  {
   "cell_type": "markdown",
   "metadata": {},
   "source": [
    "<p>Linear regression attempts to model the relationship between two variables by fitting a linear equation to observed data. One variable is considered to be an explanatory [X] variable, and the other is considered to be a dependent variable [y]..A linear regression line has an equation of the form Y = a + bX, where X is the explanatory variable and Y is the dependent variable. The slope of the line is b, and a is the intercept<a href=\"http://www.stat.yale.edu/Courses/1997-98/101/linreg.htm\"> yale</a></p>\n",
    "\n",
    "<img src=\"./images/regression-line-equation.png\"/>\n",
    "\n",
    "<p>The line eqation can be used to predict a future trend (scott)</p><img src=\"./images/regression-line.png\" />\n"
   ]
  },
  {
   "cell_type": "markdown",
   "metadata": {},
   "source": [
    "<p></strong>Linear Regression Process</strong></p>\n"
   ]
  },
  {
   "cell_type": "markdown",
   "metadata": {},
   "source": [
    "<p><strong>Step #1 - Calculate Pearson Correlation Coefficient (aka R) value</strong></p>\n",
    "\n",
    "<img src='./images/linear-regression-pearson-equation-a.png'/>\n",
    "<p>\n",
    "<strong>Pearson Correlation Coefficient</strong> is a measure of the linear association between two variables X and Y. It has a value between -1 and 1 where:\n",
    "<ul>\n",
    "<li>-1 indicates a perfectly negative linear correlation between two variables</li>\n",
    "<li>0 indicates no linear correlation between two variables</li>\n",
    "<li>1 indicates a perfectly positive linear correlation between two variables</li>\n",
    "</ul>\n",
    "<a href=\"https://www.statology.org/pearson-correlation-coefficient/\">statology.org</a>\n",
    "</p>\n",
    "\n",
    "<p>Linear Regression Correlation(Packt)</p>\n",
    "<img src=\"./images/packed-linear-regression.png\" />"
   ]
  },
  {
   "cell_type": "markdown",
   "metadata": {},
   "source": [
    "<p><strong>Step #2 - Determine Slope Coefficient</strong></p>\n",
    "<img src='./images/linear-regression-slope-equation-a.png>"
   ]
  },
  {
   "cell_type": "markdown",
   "metadata": {},
   "source": [
    "Slope Formula <a href=\"https://read.amazon.com/?asin=B071JXYDDB\">amazon</a>"
   ]
  },
  {
   "cell_type": "markdown",
   "metadata": {},
   "source": [
    "<img src=\"./images/linear-regression-slope-equation-a.png\">"
   ]
  },
  {
   "cell_type": "markdown",
   "metadata": {},
   "source": [
    "<p><strong>Step #3 - Determine Y Axis Intercept</strong></p>\n",
    "<p>Interecept formula  <a href=\"https://read.amazon.com/?asin=B071JXYDDB\">amazon</a></p>\n",
    "<img src=\"./images/linear-regression-intercept-equation-a.png\"/>\n"
   ]
  },
  {
   "cell_type": "markdown",
   "metadata": {},
   "source": [
    "<p><strong>Step #4 -  Use The line eqation can be used to predict a future trend The line eqation can be used to predict a future trend</strong></p>\n",
    "\n",
    "<p>Line Equation <a href=\"https://read.amazon.com/?asin=B071JXYDDB\">amazon</a></p>\n",
    "\n",
    "<img src=\"./images/regression-line-equation.png\"/>\n",
    "\n",
    "<p>Regression Line (from example below)</p>\n",
    "><img src=\"./images/regression-line.png\" />"
   ]
  },
  {
   "cell_type": "markdown",
   "metadata": {},
   "source": [
    "<p><strong>Step #5 Calculate MSE and/or R2 to evaluate Models Performance</strong></p>\n",
    "<p>MSE Equation (Wikipedia)</p>\n",
    "<img src=\"./images/packed-linear-mse-wikipedia.png\" />\n"
   ]
  }
 ],
 "metadata": {
  "kernelspec": {
   "display_name": "Python 3",
   "language": "python",
   "name": "python3"
  },
  "language_info": {
   "codemirror_mode": {
    "name": "ipython",
    "version": 3
   },
   "file_extension": ".py",
   "mimetype": "text/x-python",
   "name": "python",
   "nbconvert_exporter": "python",
   "pygments_lexer": "ipython3",
   "version": "3.12.0"
  }
 },
 "nbformat": 4,
 "nbformat_minor": 2
}
