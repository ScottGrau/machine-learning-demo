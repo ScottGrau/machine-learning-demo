{
 "cells": [
  {
   "cell_type": "markdown",
   "metadata": {},
   "source": [
    "<h1  style=\"color:coral\">AI/ML Lunch and Learn</h1>"
   ]
  },
  {
   "cell_type": "markdown",
   "metadata": {},
   "source": [
    "<img style=\"\" src=\"./images/opening.png\"/>"
   ]
  },
  {
   "cell_type": "markdown",
   "metadata": {},
   "source": [
    "<p>30 min - Presentation: Pure Facts and Examples</p>\n",
    "<p>(Lecture Style - Questions Limited to Context Clarifications)</p>\n",
    "\t<ul>\n",
    "\t\t<li>5min Intro</li>\n",
    "\t\t<li>15min ML1</li>\n",
    "\t\t<li>15min ML2</li>\n",
    "\t\t<li>5min Conclusion</li>\n",
    "\t</ul>\n",
    "\n",
    "<p>30min - Open Forum and More Examples (adhoc)</p>\n",
    "<p>(Round Robin - Opinions/Debate/Criticism OK)</p>\n",
    "\t<ul>\n",
    "\t\t<li>Questions / Comments</li>\n",
    "\t\t<li>Use Cases and Feasibility</li>\n",
    "\t\t<li>Deeper Review of Examples</li>\n",
    "\t\t<li>SKLearn</li>\n",
    "\t\t<li>Related Topics</li>\n",
    "\t</ul>"
   ]
  }
 ],
 "metadata": {
  "language_info": {
   "name": "python"
  }
 },
 "nbformat": 4,
 "nbformat_minor": 2
}
